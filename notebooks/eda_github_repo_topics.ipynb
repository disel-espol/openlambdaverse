{
 "cells": [
  {
   "cell_type": "markdown",
   "metadata": {},
   "source": [
    "# Análisis de topics de los repositorios en Github\n",
    "Este análisis netamente considera los topics en los repositorios en Github."
   ]
  },
  {
   "cell_type": "markdown",
   "metadata": {},
   "source": [
    "## Cargar dependencias"
   ]
  },
  {
   "cell_type": "code",
   "execution_count": 1,
   "metadata": {},
   "outputs": [],
   "source": [
    "import pandas as pd\n",
    "import matplotlib.pyplot as plt\n",
    "import numpy as np"
   ]
  },
  {
   "cell_type": "markdown",
   "metadata": {},
   "source": [
    "## Cargar archivo CSV de entrada"
   ]
  },
  {
   "cell_type": "code",
   "execution_count": 2,
   "metadata": {},
   "outputs": [
    {
     "data": {
      "text/html": [
       "<div>\n",
       "<style scoped>\n",
       "    .dataframe tbody tr th:only-of-type {\n",
       "        vertical-align: middle;\n",
       "    }\n",
       "\n",
       "    .dataframe tbody tr th {\n",
       "        vertical-align: top;\n",
       "    }\n",
       "\n",
       "    .dataframe thead th {\n",
       "        text-align: right;\n",
       "    }\n",
       "</style>\n",
       "<table border=\"1\" class=\"dataframe\">\n",
       "  <thead>\n",
       "    <tr style=\"text-align: right;\">\n",
       "      <th></th>\n",
       "      <th>project_id</th>\n",
       "      <th>topic</th>\n",
       "    </tr>\n",
       "  </thead>\n",
       "  <tbody>\n",
       "    <tr>\n",
       "      <th>0</th>\n",
       "      <td>20minutes/serverless-github-check</td>\n",
       "      <td>20minutes</td>\n",
       "    </tr>\n",
       "    <tr>\n",
       "      <th>1</th>\n",
       "      <td>20minutes/serverless-github-check</td>\n",
       "      <td>github</td>\n",
       "    </tr>\n",
       "    <tr>\n",
       "      <th>2</th>\n",
       "      <td>20minutes/serverless-github-check</td>\n",
       "      <td>github-webhooks</td>\n",
       "    </tr>\n",
       "    <tr>\n",
       "      <th>3</th>\n",
       "      <td>20minutes/serverless-github-check</td>\n",
       "      <td>noservernovember</td>\n",
       "    </tr>\n",
       "    <tr>\n",
       "      <th>4</th>\n",
       "      <td>20minutes/serverless-github-check</td>\n",
       "      <td>serverless</td>\n",
       "    </tr>\n",
       "    <tr>\n",
       "      <th>...</th>\n",
       "      <td>...</td>\n",
       "      <td>...</td>\n",
       "    </tr>\n",
       "    <tr>\n",
       "      <th>1082</th>\n",
       "      <td>zotoio/github-task-manager</td>\n",
       "      <td>gitops</td>\n",
       "    </tr>\n",
       "    <tr>\n",
       "      <th>1083</th>\n",
       "      <td>zotoio/github-task-manager</td>\n",
       "      <td>k8s</td>\n",
       "    </tr>\n",
       "    <tr>\n",
       "      <th>1084</th>\n",
       "      <td>zotoio/github-task-manager</td>\n",
       "      <td>lambda</td>\n",
       "    </tr>\n",
       "    <tr>\n",
       "      <th>1085</th>\n",
       "      <td>zotoio/github-task-manager</td>\n",
       "      <td>pull-requests</td>\n",
       "    </tr>\n",
       "    <tr>\n",
       "      <th>1086</th>\n",
       "      <td>zotoio/github-task-manager</td>\n",
       "      <td>task</td>\n",
       "    </tr>\n",
       "  </tbody>\n",
       "</table>\n",
       "<p>1087 rows × 2 columns</p>\n",
       "</div>"
      ],
      "text/plain": [
       "                             project_id             topic\n",
       "0     20minutes/serverless-github-check         20minutes\n",
       "1     20minutes/serverless-github-check            github\n",
       "2     20minutes/serverless-github-check   github-webhooks\n",
       "3     20minutes/serverless-github-check  noservernovember\n",
       "4     20minutes/serverless-github-check        serverless\n",
       "...                                 ...               ...\n",
       "1082         zotoio/github-task-manager            gitops\n",
       "1083         zotoio/github-task-manager               k8s\n",
       "1084         zotoio/github-task-manager            lambda\n",
       "1085         zotoio/github-task-manager     pull-requests\n",
       "1086         zotoio/github-task-manager              task\n",
       "\n",
       "[1087 rows x 2 columns]"
      ]
     },
     "execution_count": 2,
     "metadata": {},
     "output_type": "execute_result"
    }
   ],
   "source": [
    "# generamos DF a partir de CSV de entrada\n",
    "input_file = '../csvs/repo_topics.csv'\n",
    "df = pd.read_csv(input_file)\n",
    "df"
   ]
  },
  {
   "cell_type": "code",
   "execution_count": 3,
   "metadata": {},
   "outputs": [
    {
     "name": "stdout",
     "output_type": "stream",
     "text": [
      "                  topic  count\n",
      "0            serverless     92\n",
      "1            aws-lambda     59\n",
      "2                   aws     42\n",
      "3                lambda     36\n",
      "4  serverless-framework     36\n",
      "5                nodejs     32\n",
      "6            typescript     30\n",
      "7           cvs-project     17\n",
      "8         hacktoberfest     16\n",
      "9              dynamodb     15\n"
     ]
    }
   ],
   "source": [
    "topic_counts_df = df.groupby('topic').agg({\n",
    "    'project_id': 'count'  # count of occurrences\n",
    "}).reset_index()\n",
    "\n",
    "# rename the columns for clarity\n",
    "topic_counts_df = topic_counts_df.rename(columns={'project_id': 'count'})\n",
    "\n",
    "# sort the grouped DataFrame by count in descending order\n",
    "topic_counts_df = topic_counts_df.sort_values(by='count', ascending=False)\n",
    "\n",
    "# reset the index\n",
    "topic_counts_df = topic_counts_df.reset_index(drop=True)\n",
    "\n",
    "# display the grouped DataFrame\n",
    "print(topic_counts_df.head(10))"
   ]
  },
  {
   "cell_type": "code",
   "execution_count": 4,
   "metadata": {},
   "outputs": [],
   "source": [
    "# guardamos el nuevo DataFrame en un nuevo CSV\n",
    "output_file = '../temp_data/github_repo_topics.csv'\n",
    "df.to_csv(output_file, index=False)"
   ]
  }
 ],
 "metadata": {
  "kernelspec": {
   "display_name": "openlambdaverse",
   "language": "python",
   "name": "python3"
  },
  "language_info": {
   "codemirror_mode": {
    "name": "ipython",
    "version": 3
   },
   "file_extension": ".py",
   "mimetype": "text/x-python",
   "name": "python",
   "nbconvert_exporter": "python",
   "pygments_lexer": "ipython3",
   "version": "3.13.3"
  },
  "orig_nbformat": 4
 },
 "nbformat": 4,
 "nbformat_minor": 2
}
