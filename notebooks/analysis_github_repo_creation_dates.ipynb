{
 "cells": [
  {
   "cell_type": "markdown",
   "id": "75a4aedb",
   "metadata": {},
   "source": [
    "# Year of creation"
   ]
  },
  {
   "cell_type": "markdown",
   "id": "3cd8ebe2",
   "metadata": {},
   "source": [
    "This notebook prepares a histogram of the creation dates of the repos."
   ]
  },
  {
   "cell_type": "code",
   "execution_count": null,
   "id": "884ac012",
   "metadata": {},
   "outputs": [],
   "source": [
    "import glob\n",
    "import json\n",
    "import matplotlib.pyplot as plt\n",
    "import os\n",
    "import pandas as pd\n"
   ]
  },
  {
   "cell_type": "code",
   "execution_count": null,
   "id": "f13c608d",
   "metadata": {},
   "outputs": [],
   "source": [
    "# Find the most recent code search directory in data/processed, and obtain the final JSONL file path\n",
    "PROCESSED_DATA_DIR = os.path.join(os.getcwd(), \"..\", \"data\", \"processed\")\n",
    "latest_dir_pattern = os.path.join(PROCESSED_DATA_DIR, \"code_search_*\")\n",
    "latest_dir = max(glob.glob(latest_dir_pattern), key=os.path.getmtime, default=None)\n",
    "\n",
    "if latest_dir:\n",
    "    RESULTS_DIR = os.path.join(latest_dir, \"results\")\n",
    "    os.makedirs(RESULTS_DIR, exist_ok=True)\n",
    "else:\n",
    "    raise FileNotFoundError(\"No matching code_search_YYYYMMDD_hhmmss directory found.\")\n",
    "\n",
    "INPUT_FILENAME = os.path.join(RESULTS_DIR, \"aws_provider_repos.jsonl\")"
   ]
  },
  {
   "cell_type": "code",
   "execution_count": null,
   "id": "90e70fd5",
   "metadata": {},
   "outputs": [],
   "source": [
    "\n",
    "# Load data from your JSONL file ---\n",
    "data = []\n",
    "with open(INPUT_FILENAME, 'r') as f:\n",
    "    for line in f:\n",
    "        try:\n",
    "            data.append(json.loads(line))\n",
    "        except json.JSONDecodeError as e:\n",
    "            print(f\"Error decoding JSON: {e}\")\n",
    "# Convert to DataFrame\n",
    "df = pd.DataFrame(data)\n",
    "\n",
    "print(\"Data loaded successfully!\")\n",
    "df.head()"
   ]
  },
  {
   "cell_type": "code",
   "execution_count": null,
   "id": "cc9b9602",
   "metadata": {},
   "outputs": [],
   "source": [
    "# Convert the 'repo_created_at' column to datetime objects\n",
    "df['repo_created_at'] = pd.to_datetime(df['repo_created_at'])\n",
    "\n",
    "# Set the creation date as the DataFrame index\n",
    "df = df.set_index('repo_created_at')\n",
    "\n",
    "print(\"Converted 'repo_created_at' to datetime and set as index.\")\n",
    "df.info()"
   ]
  },
  {
   "cell_type": "code",
   "execution_count": null,
   "id": "0a0d68ff",
   "metadata": {},
   "outputs": [],
   "source": [
    "# Group by year and count the number of repositories.\n",
    "# The 'Y' stands for Year-end frequency.\n",
    "yearly_counts = df.resample('YE').size()\n",
    "\n",
    "# For cleaner labels, we can change the index from a timestamp to just the year\n",
    "yearly_counts.index = yearly_counts.index.year\n",
    "yearly_counts.index.name = 'Year'\n",
    "\n",
    "print(\"Repository Counts per Year:\")\n",
    "print(yearly_counts)"
   ]
  },
  {
   "cell_type": "code",
   "execution_count": null,
   "id": "b85982c5",
   "metadata": {},
   "outputs": [],
   "source": [
    "# Set plot style and size\n",
    "plt.style.use('seaborn-v0_8-whitegrid')\n",
    "plt.figure(figsize=(10, 6))\n",
    "\n",
    "# Create the bar plot for the yearly data\n",
    "yearly_counts.plot(kind='bar', color='#e74c3c', width=0.6)\n",
    "\n",
    "# Add titles and labels for clarity\n",
    "plt.title('Number of Repositories Created Per Year', fontsize=16, weight='bold')\n",
    "plt.xlabel('Year', fontsize=12)\n",
    "plt.ylabel('Number of Repositories', fontsize=12)\n",
    "\n",
    "# Set x-axis labels to be horizontal\n",
    "plt.xticks(rotation=0)\n",
    "\n",
    "# Ensure everything fits nicely\n",
    "plt.tight_layout()\n",
    "\n",
    "# Save the figure as a PDF before showing it\n",
    "# The bbox_inches='tight' argument crops the saved figure to a tight bounding box.\n",
    "os.makedirs('../paper/figs', exist_ok=True)\n",
    "plt.savefig('../paper/figs/yearly_histogram.pdf', bbox_inches='tight')\n",
    "\n",
    "# Display the plot\n",
    "plt.show()\n",
    "\n",
    "print(\"Histogram has been exported as 'yearly_histogram.pdf'\")"
   ]
  }
 ],
 "metadata": {
  "kernelspec": {
   "display_name": "openlambdaverse",
   "language": "python",
   "name": "python3"
  },
  "language_info": {
   "codemirror_mode": {
    "name": "ipython",
    "version": 3
   },
   "file_extension": ".py",
   "mimetype": "text/x-python",
   "name": "python",
   "nbconvert_exporter": "python",
   "pygments_lexer": "ipython3",
   "version": "3.13.3"
  }
 },
 "nbformat": 4,
 "nbformat_minor": 5
}
