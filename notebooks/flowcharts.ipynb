{
 "cells": [
  {
   "cell_type": "markdown",
   "metadata": {},
   "source": [
    "# Flowcharts generation"
   ]
  },
  {
   "cell_type": "code",
   "execution_count": null,
   "metadata": {},
   "outputs": [],
   "source": [
    "import graphviz"
   ]
  },
  {
   "cell_type": "markdown",
   "metadata": {},
   "source": [
    "### Workflow"
   ]
  },
  {
   "cell_type": "code",
   "execution_count": null,
   "metadata": {},
   "outputs": [],
   "source": [
    "\n",
    "# create a Digraph object\n",
    "dot = graphviz.Digraph(format='pdf')\n",
    "\n",
    "light_purple_color = '#D3B0E0'\n",
    "font_name = 'Arial'\n",
    "\n",
    "# add nodes (blocks) to the flowchart\n",
    "dot.node('A', 'Start', shape='ellipse', style='filled', color='lightgreen', fontname=font_name)\n",
    "dot.node('B', 'Search for Serverless Framework configuration files with the GitHub REST API', shape='box', style='filled', color='pink', fontname=font_name)\n",
    "dot.node('C', 'Filter out configuration files contained within test and demo directories', shape='box', style='filled', color='lightblue', fontname=font_name)\n",
    "dot.node('D', 'Remove duplicates and generate unique repository URLs', shape='box', style='filled', color='lightblue', fontname=font_name)\n",
    "dot.node('E', 'Remove Serverless community contributions', shape='box', style='filled', color='lightblue', fontname=font_name)\n",
    "dot.node('F', 'Fetch repository metadata with the GitHub REST API', shape='box', style='filled', color='pink', fontname=font_name)\n",
    "dot.node('G', 'Filter unlicensed repositories', shape='box', style='filled', color='lightblue', fontname=font_name)\n",
    "dot.node('H', 'Filter forks, shallow, inactive and toy projects', shape='box', style='filled', color='lightblue', fontname=font_name)\n",
    "dot.node('I', 'Filter AWS-exclusive projects', shape='box', style='filled', color=light_purple_color, fontname=font_name)\n",
    "dot.node('J', 'Clone repositories', shape='box', style='filled', color='red', fontname=font_name)\n",
    "dot.node('K', 'End', shape='ellipse', style='filled', color='orange', fontname=font_name)\n",
    "\n",
    "# add edges (arrows) to connect the nodes\n",
    "dot.edge('A', 'B')\n",
    "dot.edge('B', 'C')\n",
    "dot.edge('C', 'D')\n",
    "dot.edge('D', 'E')\n",
    "dot.edge('E', 'F')\n",
    "dot.edge('F', 'G')\n",
    "dot.edge('G', 'H')\n",
    "dot.edge('H', 'I')\n",
    "dot.edge('I', 'J')\n",
    "dot.edge('J', 'K')\n",
    "\n",
    "# render the flowchart to a file (e.g., PNG)\n",
    "dot.render('../paper/figs/flowchart')\n",
    "\n",
    "# display the generated flowchart (requires an external viewer)\n",
    "dot.view('../paper/figs/flowchart')\n"
   ]
  },
  {
   "cell_type": "markdown",
   "metadata": {},
   "source": [
    "### EDA (deprecated)"
   ]
  },
  {
   "cell_type": "code",
   "execution_count": null,
   "metadata": {},
   "outputs": [],
   "source": [
    "# create a Digraph object\n",
    "dot2 = graphviz.Digraph(format='pdf')\n",
    "\n",
    "light_purple_color = '#D3B0E0'\n",
    "font_name = 'Arial'\n",
    "\n",
    "# add nodes (blocks) to the flowchart\n",
    "dot2.node('A', 'Start', shape='ellipse', style='filled', color='lightgreen', fontname=font_name)\n",
    "dot2.node('B', 'Fetch LOC', shape='box', style='filled', color='lightblue', fontname=font_name)\n",
    "dot2.node('C', 'Fetch CLOC analysis rates', shape='box', style='filled', color='lightblue', fontname=font_name)\n",
    "dot2.node('D', 'Fetch repository sizes', shape='box', style='filled', color='lightblue', fontname=font_name)\n",
    "dot2.node('E', 'Fetch info. from commits', shape='box', style='filled', color='lightblue', fontname=font_name)\n",
    "dot2.node('F', 'Fetch topics', shape='box', style='filled', color='lightblue', fontname=font_name)\n",
    "dot2.node('G', 'Fetch plugins', shape='box', style='filled', color='lightblue', fontname=font_name)\n",
    "dot2.node('H', 'Fetch runtimes', shape='box', style='filled', color='lightblue', fontname=font_name)\n",
    "dot2.node('I', 'Fetch functions', shape='box', style='filled', color='lightblue', fontname=font_name)\n",
    "dot2.node('J', 'Fetch handlers', shape='box', style='filled', color='lightblue', fontname=font_name)\n",
    "dot2.node('K', 'Fetch events', shape='box', style='filled', color='lightblue', fontname=font_name)\n",
    "dot2.node('L', 'End', shape='ellipse', style='filled', color='orange', fontname=font_name)\n",
    "\n",
    "# add edges (arrows) to connect the nodes\n",
    "dot2.edge('A', 'B')\n",
    "dot2.edge('B', 'C')\n",
    "dot2.edge('C', 'D')\n",
    "dot2.edge('D', 'E')\n",
    "dot2.edge('E', 'F')\n",
    "dot2.edge('F', 'G')\n",
    "dot2.edge('G', 'H')\n",
    "dot2.edge('H', 'I')\n",
    "dot2.edge('I', 'J')\n",
    "dot2.edge('J', 'K')\n",
    "dot2.edge('K', 'L')\n",
    "\n",
    "# render the flowchart to a file (e.g., PNG)\n",
    "dot2.render('../paper/figs/flowchart_eda')\n",
    "\n",
    "# display the generated flowchart (requires an external viewer)\n",
    "dot2.view('../paper/figs/flowchart_eda')\n"
   ]
  }
 ],
 "metadata": {
  "kernelspec": {
   "display_name": "openlambdaverse",
   "language": "python",
   "name": "python3"
  },
  "language_info": {
   "codemirror_mode": {
    "name": "ipython",
    "version": 3
   },
   "file_extension": ".py",
   "mimetype": "text/x-python",
   "name": "python",
   "nbconvert_exporter": "python",
   "pygments_lexer": "ipython3",
   "version": "3.13.3"
  },
  "orig_nbformat": 4
 },
 "nbformat": 4,
 "nbformat_minor": 2
}
