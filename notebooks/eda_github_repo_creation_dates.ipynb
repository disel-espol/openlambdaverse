{
 "cells": [
  {
   "cell_type": "code",
   "execution_count": 1,
   "id": "75a4aedb",
   "metadata": {},
   "outputs": [
    {
     "name": "stdout",
     "output_type": "stream",
     "text": [
      "Data loaded successfully!\n"
     ]
    },
    {
     "data": {
      "text/html": [
       "<div>\n",
       "<style scoped>\n",
       "    .dataframe tbody tr th:only-of-type {\n",
       "        vertical-align: middle;\n",
       "    }\n",
       "\n",
       "    .dataframe tbody tr th {\n",
       "        vertical-align: top;\n",
       "    }\n",
       "\n",
       "    .dataframe thead th {\n",
       "        text-align: right;\n",
       "    }\n",
       "</style>\n",
       "<table border=\"1\" class=\"dataframe\">\n",
       "  <thead>\n",
       "    <tr style=\"text-align: right;\">\n",
       "      <th></th>\n",
       "      <th>repository</th>\n",
       "      <th>serverless_config</th>\n",
       "      <th>github_metadata</th>\n",
       "      <th>is_fork</th>\n",
       "      <th>last_commit_date</th>\n",
       "      <th>stars_count</th>\n",
       "      <th>watchers_count</th>\n",
       "      <th>open_issues_count</th>\n",
       "      <th>repo_created_at</th>\n",
       "      <th>repo_updated_at</th>\n",
       "      <th>license_name</th>\n",
       "    </tr>\n",
       "  </thead>\n",
       "  <tbody>\n",
       "    <tr>\n",
       "      <th>0</th>\n",
       "      <td>0xEduardo/nodeless</td>\n",
       "      <td>{'plugins': [], 'runtimes': ['nodejs12.x'], 'e...</td>\n",
       "      <td>{'size_kb': 138, 'forks': 0, 'stars': 0, 'topi...</td>\n",
       "      <td>False</td>\n",
       "      <td>2023-07-13T00:46:38Z</td>\n",
       "      <td>0</td>\n",
       "      <td>0</td>\n",
       "      <td>2</td>\n",
       "      <td>2022-06-05T12:51:22Z</td>\n",
       "      <td>2022-06-06T14:56:49Z</td>\n",
       "      <td>MIT License</td>\n",
       "    </tr>\n",
       "    <tr>\n",
       "      <th>1</th>\n",
       "      <td>0xayot/waas</td>\n",
       "      <td>{'plugins': ['serverless-bundle', 'serverless-...</td>\n",
       "      <td>{'size_kb': 450, 'forks': 0, 'stars': 0, 'topi...</td>\n",
       "      <td>False</td>\n",
       "      <td>2024-09-06T07:03:02Z</td>\n",
       "      <td>0</td>\n",
       "      <td>0</td>\n",
       "      <td>0</td>\n",
       "      <td>2022-12-20T08:44:49Z</td>\n",
       "      <td>2024-09-06T07:03:09Z</td>\n",
       "      <td>MIT License</td>\n",
       "    </tr>\n",
       "    <tr>\n",
       "      <th>2</th>\n",
       "      <td>20minutes/serverless-github-check</td>\n",
       "      <td>{'plugins': ['serverless-webpack', 'serverless...</td>\n",
       "      <td>{'size_kb': 6741, 'forks': 0, 'stars': 14, 'to...</td>\n",
       "      <td>False</td>\n",
       "      <td>2025-05-06T01:06:25Z</td>\n",
       "      <td>14</td>\n",
       "      <td>14</td>\n",
       "      <td>0</td>\n",
       "      <td>2018-11-12T14:12:40Z</td>\n",
       "      <td>2025-05-06T01:06:28Z</td>\n",
       "      <td>MIT License</td>\n",
       "    </tr>\n",
       "    <tr>\n",
       "      <th>3</th>\n",
       "      <td>20minutes/serverless-provisioned-memory-report</td>\n",
       "      <td>{'plugins': ['serverless-webpack', 'serverless...</td>\n",
       "      <td>{'size_kb': 5600, 'forks': 0, 'stars': 1, 'top...</td>\n",
       "      <td>False</td>\n",
       "      <td>2025-05-06T01:03:27Z</td>\n",
       "      <td>1</td>\n",
       "      <td>1</td>\n",
       "      <td>0</td>\n",
       "      <td>2022-08-31T14:48:32Z</td>\n",
       "      <td>2025-05-06T01:03:30Z</td>\n",
       "      <td>MIT License</td>\n",
       "    </tr>\n",
       "    <tr>\n",
       "      <th>4</th>\n",
       "      <td>2amigos/laravel-mail-api</td>\n",
       "      <td>{'plugins': ['./vendor/bref/bref', 'serverless...</td>\n",
       "      <td>{'size_kb': 1069, 'forks': 1, 'stars': 4, 'top...</td>\n",
       "      <td>False</td>\n",
       "      <td>2023-12-20T02:46:21Z</td>\n",
       "      <td>4</td>\n",
       "      <td>4</td>\n",
       "      <td>0</td>\n",
       "      <td>2023-07-28T14:16:41Z</td>\n",
       "      <td>2025-04-10T21:03:09Z</td>\n",
       "      <td>Other</td>\n",
       "    </tr>\n",
       "  </tbody>\n",
       "</table>\n",
       "</div>"
      ],
      "text/plain": [
       "                                       repository  \\\n",
       "0                              0xEduardo/nodeless   \n",
       "1                                     0xayot/waas   \n",
       "2               20minutes/serverless-github-check   \n",
       "3  20minutes/serverless-provisioned-memory-report   \n",
       "4                        2amigos/laravel-mail-api   \n",
       "\n",
       "                                   serverless_config  \\\n",
       "0  {'plugins': [], 'runtimes': ['nodejs12.x'], 'e...   \n",
       "1  {'plugins': ['serverless-bundle', 'serverless-...   \n",
       "2  {'plugins': ['serverless-webpack', 'serverless...   \n",
       "3  {'plugins': ['serverless-webpack', 'serverless...   \n",
       "4  {'plugins': ['./vendor/bref/bref', 'serverless...   \n",
       "\n",
       "                                     github_metadata  is_fork  \\\n",
       "0  {'size_kb': 138, 'forks': 0, 'stars': 0, 'topi...    False   \n",
       "1  {'size_kb': 450, 'forks': 0, 'stars': 0, 'topi...    False   \n",
       "2  {'size_kb': 6741, 'forks': 0, 'stars': 14, 'to...    False   \n",
       "3  {'size_kb': 5600, 'forks': 0, 'stars': 1, 'top...    False   \n",
       "4  {'size_kb': 1069, 'forks': 1, 'stars': 4, 'top...    False   \n",
       "\n",
       "       last_commit_date  stars_count  watchers_count  open_issues_count  \\\n",
       "0  2023-07-13T00:46:38Z            0               0                  2   \n",
       "1  2024-09-06T07:03:02Z            0               0                  0   \n",
       "2  2025-05-06T01:06:25Z           14              14                  0   \n",
       "3  2025-05-06T01:03:27Z            1               1                  0   \n",
       "4  2023-12-20T02:46:21Z            4               4                  0   \n",
       "\n",
       "        repo_created_at       repo_updated_at license_name  \n",
       "0  2022-06-05T12:51:22Z  2022-06-06T14:56:49Z  MIT License  \n",
       "1  2022-12-20T08:44:49Z  2024-09-06T07:03:09Z  MIT License  \n",
       "2  2018-11-12T14:12:40Z  2025-05-06T01:06:28Z  MIT License  \n",
       "3  2022-08-31T14:48:32Z  2025-05-06T01:03:30Z  MIT License  \n",
       "4  2023-07-28T14:16:41Z  2025-04-10T21:03:09Z        Other  "
      ]
     },
     "execution_count": 1,
     "metadata": {},
     "output_type": "execute_result"
    }
   ],
   "source": [
    "import json\n",
    "import pandas as pd\n",
    "import matplotlib.pyplot as plt\n",
    "import seaborn as sns\n",
    "# --- Load data from your JSONL file ---\n",
    "input_file = '../data/processed/code_search_20250424_000000/results/aws_provider_repos.jsonl'\n",
    "data = []\n",
    "with open(input_file, 'r') as f:\n",
    "    for line in f:\n",
    "        try:\n",
    "            data.append(json.loads(line))\n",
    "        except json.JSONDecodeError as e:\n",
    "            print(f\"Error decoding JSON: {e}\")\n",
    "# Convert to DataFrame\n",
    "df = pd.DataFrame(data)\n",
    "\n",
    "print(\"Data loaded successfully!\")\n",
    "df.head()"
   ]
  },
  {
   "cell_type": "code",
   "execution_count": 2,
   "id": "cc9b9602",
   "metadata": {},
   "outputs": [
    {
     "name": "stdout",
     "output_type": "stream",
     "text": [
      "Converted 'repo_created_at' to datetime and set as index.\n",
      "<class 'pandas.core.frame.DataFrame'>\n",
      "DatetimeIndex: 668 entries, 2022-06-05 12:51:22+00:00 to 2017-11-27 08:17:44+00:00\n",
      "Data columns (total 10 columns):\n",
      " #   Column             Non-Null Count  Dtype \n",
      "---  ------             --------------  ----- \n",
      " 0   repository         668 non-null    object\n",
      " 1   serverless_config  668 non-null    object\n",
      " 2   github_metadata    668 non-null    object\n",
      " 3   is_fork            668 non-null    bool  \n",
      " 4   last_commit_date   668 non-null    object\n",
      " 5   stars_count        668 non-null    int64 \n",
      " 6   watchers_count     668 non-null    int64 \n",
      " 7   open_issues_count  668 non-null    int64 \n",
      " 8   repo_updated_at    668 non-null    object\n",
      " 9   license_name       668 non-null    object\n",
      "dtypes: bool(1), int64(3), object(6)\n",
      "memory usage: 52.8+ KB\n"
     ]
    }
   ],
   "source": [
    "# Convert the 'repo_created_at' column to datetime objects\n",
    "df['repo_created_at'] = pd.to_datetime(df['repo_created_at'])\n",
    "\n",
    "# Set the creation date as the DataFrame index\n",
    "df = df.set_index('repo_created_at')\n",
    "\n",
    "print(\"Converted 'repo_created_at' to datetime and set as index.\")\n",
    "df.info()"
   ]
  },
  {
   "cell_type": "code",
   "execution_count": 3,
   "id": "0a0d68ff",
   "metadata": {},
   "outputs": [
    {
     "name": "stdout",
     "output_type": "stream",
     "text": [
      "Repository Counts per Year:\n",
      "Year\n",
      "2011      1\n",
      "2012      0\n",
      "2013      0\n",
      "2014      0\n",
      "2015      2\n",
      "2016     12\n",
      "2017     30\n",
      "2018     48\n",
      "2019     85\n",
      "2020     77\n",
      "2021     61\n",
      "2022     76\n",
      "2023    143\n",
      "2024    103\n",
      "2025     30\n",
      "dtype: int64\n"
     ]
    },
    {
     "name": "stderr",
     "output_type": "stream",
     "text": [
      "/var/folders/dv/k_517rt53cd11vn4d1p1r1vh0000gn/T/ipykernel_2289/3598636440.py:3: FutureWarning: 'Y' is deprecated and will be removed in a future version, please use 'YE' instead.\n",
      "  yearly_counts = df.resample('Y').size()\n"
     ]
    }
   ],
   "source": [
    "# Group by year and count the number of repositories.\n",
    "# The 'Y' stands for Year-end frequency.\n",
    "yearly_counts = df.resample('Y').size()\n",
    "\n",
    "# For cleaner labels, we can change the index from a timestamp to just the year\n",
    "yearly_counts.index = yearly_counts.index.year\n",
    "yearly_counts.index.name = 'Year'\n",
    "\n",
    "print(\"Repository Counts per Year:\")\n",
    "print(yearly_counts)"
   ]
  },
  {
   "cell_type": "code",
   "execution_count": 4,
   "id": "b85982c5",
   "metadata": {},
   "outputs": [
    {
     "data": {
      "image/png": "[encoded data removed]",
      "text/plain": [
       "<Figure size 1000x600 with 1 Axes>"
      ]
     },
     "metadata": {},
     "output_type": "display_data"
    },
    {
     "name": "stdout",
     "output_type": "stream",
     "text": [
      "Histogram has been exported as 'yearly_histogram.pdf'\n"
     ]
    }
   ],
   "source": [
    "# Set plot style and size\n",
    "plt.style.use('seaborn-v0_8-whitegrid')\n",
    "plt.figure(figsize=(10, 6))\n",
    "\n",
    "# Create the bar plot for the yearly data\n",
    "yearly_counts.plot(kind='bar', color='#e74c3c', width=0.6)\n",
    "\n",
    "# Add titles and labels for clarity\n",
    "plt.title('Number of Repositories Created Per Year', fontsize=16, weight='bold')\n",
    "plt.xlabel('Year', fontsize=12)\n",
    "plt.ylabel('Number of Repositories', fontsize=12)\n",
    "\n",
    "# Set x-axis labels to be horizontal\n",
    "plt.xticks(rotation=0)\n",
    "\n",
    "# Ensure everything fits nicely\n",
    "plt.tight_layout()\n",
    "\n",
    "# --- Save the figure as a PDF before showing it ---\n",
    "# The bbox_inches='tight' argument crops the saved figure to a tight bounding box.\n",
    "plt.savefig('../paper/figs/yearly_histogram.pdf', bbox_inches='tight')\n",
    "\n",
    "# Display the plot\n",
    "plt.show()\n",
    "\n",
    "print(\"Histogram has been exported as 'yearly_histogram.pdf'\")"
   ]
  }
 ],
 "metadata": {
  "kernelspec": {
   "display_name": "openlambdaverse",
   "language": "python",
   "name": "python3"
  },
  "language_info": {
   "codemirror_mode": {
    "name": "ipython",
    "version": 3
   },
   "file_extension": ".py",
   "mimetype": "text/x-python",
   "name": "python",
   "nbconvert_exporter": "python",
   "pygments_lexer": "ipython3",
   "version": "3.13.3"
  }
 },
 "nbformat": 4,
 "nbformat_minor": 5
}
