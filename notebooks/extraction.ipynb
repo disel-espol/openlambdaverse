{
 "cells": [
  {
   "cell_type": "markdown",
   "metadata": {},
   "source": [
    "# Extracción de info. de repositorios de Github"
   ]
  },
  {
   "cell_type": "markdown",
   "metadata": {},
   "source": [
    "## Using PyGithub\n",
    "PyGithub will help us extract data from Github public repositories.\n",
    "\n",
    "- Ref: [this link](https://github.com/PyGithub/PyGithub).\n",
    "- Docs: [this other link](https://pygithub.readthedocs.io/en/stable/introduction.html)."
   ]
  },
  {
   "attachments": {},
   "cell_type": "markdown",
   "metadata": {},
   "source": [
    "### Sample code"
   ]
  },
  {
   "cell_type": "code",
   "execution_count": null,
   "metadata": {},
   "outputs": [],
   "source": [
    "from github import Github, Auth\n",
    "import os\n",
    "from github.GithubException import BadCredentialsException\n",
    "from dotenv import load_dotenv\n",
    "\n",
    "# Load environment variables from .env file\n",
    "load_dotenv()\n",
    "\n",
    "# Get the token from environment variables\n",
    "TOKEN = os.getenv(\"GITHUB_AUTH_TOKEN\")\n",
    "\n",
    "try:\n",
    "    print(\"▶️  Attempting to authenticate...\")\n",
    "    auth = Auth.Token(TOKEN)\n",
    "    g = Github(auth=auth)\n",
    "    \n",
    "    user = g.get_user()\n",
    "    \n",
    "    print(f\"✅ Success! Authenticated as: {user.login}\")\n",
    "\n",
    "    for repo in g.get_user().get_repos():\n",
    "        print(repo.name)\n",
    "        repo.edit(has_wiki=False)\n",
    "        # to see all the available attributes and methods\n",
    "        print(dir(repo))\n",
    "\n",
    "except BadCredentialsException:\n",
    "    print(\"❌ BadCredentialsException.\")\n",
    "    print(\"   This means the token itself is invalid, expired, or lacks the correct permissions for your target environment.\")\n",
    "except Exception as e:\n",
    "    print(f\"An unexpected error occurred: {e}\")"
   ]
  }
 ],
 "metadata": {
  "kernelspec": {
   "display_name": "openlambdaverse",
   "language": "python",
   "name": "python3"
  },
  "language_info": {
   "codemirror_mode": {
    "name": "ipython",
    "version": 3
   },
   "file_extension": ".py",
   "mimetype": "text/x-python",
   "name": "python",
   "nbconvert_exporter": "python",
   "pygments_lexer": "ipython3",
   "version": "3.13.3"
  }
 },
 "nbformat": 4,
 "nbformat_minor": 2
}
